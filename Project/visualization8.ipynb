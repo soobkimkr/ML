{
 "cells": [
  {
   "cell_type": "code",
   "execution_count": null,
   "metadata": {},
   "outputs": [],
   "source": [
    "import pandas as pd\r\n",
    "\r\n",
    "df = pd.read_csv('C:/Workspace/Project/data/.csv')\r\n",
    "df.head()"
   ]
  },
  {
   "cell_type": "code",
   "execution_count": null,
   "metadata": {},
   "outputs": [],
   "source": [
    "import json\n",
    "geo_data = \"C:/Workspace/Project/data/seoul_dong_geo_simple.json\"\n",
    "\n",
    "with open(geo_data,encoding=\"utf-8\") as f:\n",
    "    data = json.loads(f.read())"
   ]
  },
  {
   "cell_type": "code",
   "execution_count": null,
   "metadata": {},
   "outputs": [],
   "source": [
    "for i in range(len(df)): \n",
    "    for j in range(len(df)): \n",
    "        if data['features'][i]['properties'][\"EMD_KOR_NM\"] == df[\"행정동\"][j]: \n",
    "            data['features'][i]['properties'][\"score\"] = int(df[\"점수\"][j])"
   ]
  },
  {
   "cell_type": "code",
   "execution_count": null,
   "metadata": {},
   "outputs": [],
   "source": [
    "from mapboxgl.viz import *\n",
    "from mapboxgl.utils import create_color_stops \n",
    "from mapboxgl.utils import create_numeric_stops\n",
    "import mapboxgl\n",
    "\n",
    "# 토큰 (from MAPBOX account)\n",
    "token = 'pk.eyJ1Ijoic29vYmtpbWtyIiwiYSI6ImNrcHc3N3R5cDFhY3Mybm5vcDBuMzhpYWcifQ.kST_tvuezKFnOD0mYC5sWw'\n",
    "\n",
    "# 서울시 중심부의 경도, 위도 입니다. \n",
    "center = [126.986, 37.565] \n",
    "\n",
    "# 시각화 할 값에 따른 색상의 범주 (0~1500)를 지정해줍니다. \n",
    "color_breaks = [0, 200, 400, 600, 800, 1000, 1200, 1500] \n",
    "color_stops = create_color_stops(color_breaks, colors='BuPu')\n",
    "\n",
    "# ChoroplethViz 를 그립니다.\n",
    "viz = ChoroplethViz(access_token=token, data=data, color_property='score', color_stops=color_stops, center=center, zoom=10)\n",
    "\n",
    "# 맵을 -15도 만큼 좌우 회전하고, 45도 만큼 상하 회전합니다. \n",
    "viz.bearing = -15\n",
    "viz.pitch = 45\n",
    "\n",
    "# 각 데이터에 '실거래가'를 기준으로 height 값을 줍니다.\n",
    "viz.height_property = 'score'\n",
    "\n",
    "# 높이의 값을 '실거래가' 에 따라 아래 간격으로 매핑합니다.\n",
    "numeric_stops = create_numeric_stops([0, 200, 400, 600, 800, 1000, 1200, 1500], 0, 3000)\n",
    "\n",
    "viz.height_stops = numeric_stops\n",
    "viz.height_function_type = 'interpolate'\n",
    "\n",
    "# 맵을 출력합니다. \n",
    "viz.show()"
   ]
  },
  {
   "cell_type": "markdown",
   "metadata": {},
   "source": [
    "### 특정동만 시각화"
   ]
  },
  {
   "cell_type": "code",
   "execution_count": null,
   "metadata": {},
   "outputs": [],
   "source": [
    "match_color_stops = [\n",
    "    ['강남구', 'rgb(46,204,113)'], \n",
    "    ['송파구', 'rgb(231,76,60)'], \n",
    "    ['용산구', 'rgb(142,68,173)']\n",
    "]\n",
    "\n",
    "token = 'pk.eyJ1Ijoic29vYmtpbWtyIiwiYSI6ImNrcHc3N3R5cDFhY3Mybm5vcDBuMzhpYWcifQ.kST_tvuezKFnOD0mYC5sWw'\n",
    "center = [126.986, 37.565]\n",
    "\n",
    "viz = ChoroplethViz(\n",
    "    data,\n",
    "    access_token=token,\n",
    "    color_function_type='match',\n",
    "    color_property='EMD_KOR_NM',\n",
    "    color_stops=match_color_stops, \n",
    "    color_default='rgba(52,73,94,0.5)',\n",
    "    center=center,\n",
    "    bearing=-15,\n",
    "    pitch=45,\n",
    "    zoom=10)\n",
    "viz.show()"
   ]
  }
 ],
 "metadata": {
  "interpreter": {
   "hash": "8c1eae21719a0790335dcb83aad72b63b602cfe5cdb2bda0f60bc11d4f154e4b"
  },
  "kernelspec": {
   "display_name": "Python 3.8.5 64-bit ('base': conda)",
   "name": "python3"
  },
  "language_info": {
   "name": "python",
   "version": ""
  },
  "orig_nbformat": 4
 },
 "nbformat": 4,
 "nbformat_minor": 2
}